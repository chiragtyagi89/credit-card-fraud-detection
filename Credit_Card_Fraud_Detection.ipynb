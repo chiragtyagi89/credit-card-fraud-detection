{
 "cells": [
  {
   "cell_type": "markdown",
   "id": "08e6020c",
   "metadata": {},
   "source": [
    "# 💳 Credit Card Fraud Detection – ML Project\n",
    "In this notebook, we build a model to detect fraudulent credit card transactions using classification algorithms like Logistic Regression and Random Forest."
   ]
  },
  {
   "cell_type": "code",
   "execution_count": null,
   "id": "2f0a207c",
   "metadata": {},
   "outputs": [],
   "source": [
    "# 📍 Step 1: Import Libraries\n",
    "import pandas as pd\n",
    "import numpy as np\n",
    "import matplotlib.pyplot as plt\n",
    "import seaborn as sns\n",
    "\n",
    "from sklearn.model_selection import train_test_split\n",
    "from sklearn.preprocessing import StandardScaler\n",
    "from sklearn.linear_model import LogisticRegression\n",
    "from sklearn.ensemble import RandomForestClassifier\n",
    "from sklearn.metrics import classification_report, confusion_matrix\n",
    "from imblearn.over_sampling import SMOTE"
   ]
  },
  {
   "cell_type": "code",
   "execution_count": null,
   "id": "d6393a01",
   "metadata": {},
   "outputs": [],
   "source": [
    "# 📍 Step 2: Load the Data\n",
    "df = pd.read_csv(\"creditcard.csv\")\n",
    "df.head()"
   ]
  },
  {
   "cell_type": "code",
   "execution_count": null,
   "id": "9670e4a5",
   "metadata": {},
   "outputs": [],
   "source": [
    "# 📍 Step 3: Exploratory Data Analysis\n",
    "print(df['Class'].value_counts())\n",
    "sns.countplot(x='Class', data=df)\n",
    "plt.title(\"Class Distribution (0: Genuine, 1: Fraud)\")\n",
    "plt.show()"
   ]
  },
  {
   "cell_type": "code",
   "execution_count": null,
   "id": "e4e82d25",
   "metadata": {},
   "outputs": [],
   "source": [
    "# 📍 Step 4: Normalize the 'Amount' and 'Time' columns\n",
    "scaler = StandardScaler()\n",
    "df['Amount'] = scaler.fit_transform(df[['Amount']])\n",
    "df['Time'] = scaler.fit_transform(df[['Time']])"
   ]
  },
  {
   "cell_type": "code",
   "execution_count": null,
   "id": "f4c4e61c",
   "metadata": {},
   "outputs": [],
   "source": [
    "# 📍 Step 5: Split Data into Features and Target\n",
    "X = df.drop('Class', axis=1)\n",
    "y = df['Class']"
   ]
  },
  {
   "cell_type": "code",
   "execution_count": null,
   "id": "4a16fef8",
   "metadata": {},
   "outputs": [],
   "source": [
    "# 📍 Step 6: Train-Test Split\n",
    "X_train, X_test, y_train, y_test = train_test_split(X, y, test_size=0.2, random_state=42, stratify=y)"
   ]
  },
  {
   "cell_type": "code",
   "execution_count": null,
   "id": "4ebfff64",
   "metadata": {},
   "outputs": [],
   "source": [
    "# 📍 Step 7: Handle Imbalance with SMOTE\n",
    "sm = SMOTE(random_state=42)\n",
    "X_res, y_res = sm.fit_resample(X_train, y_train)\n",
    "\n",
    "print(\"After SMOTE, counts of label '1': {}\".format(sum(y_res==1)))\n",
    "print(\"After SMOTE, counts of label '0': {} \n",
    "\".format(sum(y_res==0)))"
   ]
  },
  {
   "cell_type": "code",
   "execution_count": null,
   "id": "7f31fbfb",
   "metadata": {},
   "outputs": [],
   "source": [
    "# 📍 Step 8: Train Logistic Regression Model\n",
    "lr = LogisticRegression(max_iter=1000)\n",
    "lr.fit(X_res, y_res)\n",
    "y_pred_lr = lr.predict(X_test)\n",
    "\n",
    "print(\"Logistic Regression Classification Report:\")\n",
    "print(classification_report(y_test, y_pred_lr))"
   ]
  },
  {
   "cell_type": "code",
   "execution_count": null,
   "id": "bddaac5b",
   "metadata": {},
   "outputs": [],
   "source": [
    "# 📍 Step 9: Train Random Forest Model\n",
    "rf = RandomForestClassifier(n_estimators=100, random_state=42)\n",
    "rf.fit(X_res, y_res)\n",
    "y_pred_rf = rf.predict(X_test)\n",
    "\n",
    "print(\"Random Forest Classification Report:\")\n",
    "print(classification_report(y_test, y_pred_rf))"
   ]
  },
  {
   "cell_type": "code",
   "execution_count": null,
   "id": "662617a0",
   "metadata": {},
   "outputs": [],
   "source": [
    "# 📍 Step 10: Confusion Matrix for Random Forest\n",
    "conf_mat = confusion_matrix(y_test, y_pred_rf)\n",
    "sns.heatmap(conf_mat, annot=True, fmt=\"d\", cmap=\"Blues\")\n",
    "plt.title(\"Confusion Matrix - Random Forest\")\n",
    "plt.xlabel(\"Predicted\")\n",
    "plt.ylabel(\"Actual\")\n",
    "plt.show()"
   ]
  }
 ],
 "metadata": {},
 "nbformat": 4,
 "nbformat_minor": 5
}
